{
 "metadata": {
  "name": "",
  "signature": "sha256:5bb4593a26b1640ed6ac9f21347b552fb31c43761cea97d894ee9b26460983ff"
 },
 "nbformat": 3,
 "nbformat_minor": 0,
 "worksheets": [
  {
   "cells": [
    {
     "cell_type": "markdown",
     "metadata": {},
     "source": [
      "# Week 9 Assignment"
     ]
    },
    {
     "cell_type": "markdown",
     "metadata": {},
     "source": [
      "##  Importing the data into Python and Graphing the 4 plots with regression lines."
     ]
    },
    {
     "cell_type": "markdown",
     "metadata": {},
     "source": [
      "First we need to connect to the database. Make sure to change the path to the location of the file on your machine."
     ]
    },
    {
     "cell_type": "code",
     "collapsed": false,
     "input": [
      "import sqlite3\n",
      "import pandas as pd\n",
      "import numpy as np\n",
      "import matplotlib.pyplot as plt\n",
      "%matplotlib inline\n",
      "conn = sqlite3.connect('D:/Erik/cunyweek9.sqlite')\n",
      "cur = conn.cursor()"
     ],
     "language": "python",
     "metadata": {},
     "outputs": [],
     "prompt_number": 5
    },
    {
     "cell_type": "markdown",
     "metadata": {},
     "source": [
      "Next I created a function that takes the table name and returns a list of tuples which represent the x and y coordinates. The second function creates a scatter plot and fits a linear regression line to it."
     ]
    },
    {
     "cell_type": "code",
     "collapsed": false,
     "input": [
      "#Takes the data from the SQLite database and generates a set of points\n",
      "def read_table(tablename):\n",
      "    table = str(tablename)\n",
      "    cur.execute('SELECT * FROM %s' %table)\n",
      "    points = []\n",
      "    for row in cur:\n",
      "        points.append(row)\n",
      "    return points\n",
      "\n",
      "#Takes a list of points(as a tuple or list) and title for the plot as a character\n",
      "#and generates a scatterplot and linear regression line for the data.\n",
      "def plot_test(ax, points, title):\n",
      "    x = []\n",
      "    y = []\n",
      "    for point in points:\n",
      "        x.append(point[0])\n",
      "        y.append(point[1])\n",
      "    m,b = np.polyfit(x,y,1) #Generates the m,b values for the regression\n",
      "    yp  = np.polyval([m,b],x) #generates a set of y values based of the x-values and the m and b values\n",
      "    ax.scatter(x, y) #Scatter plot of the data\n",
      "    ax.plot(x,yp) #Plots the regression line\n",
      "    ax.set_xlabel('x')\n",
      "    ax.set_ylabel('y')\n",
      "    ax.set_title(title)"
     ],
     "language": "python",
     "metadata": {},
     "outputs": [],
     "prompt_number": 39
    },
    {
     "cell_type": "markdown",
     "metadata": {},
     "source": [
      "Finally we call the function for each table in the database and assign each to it's own list."
     ]
    },
    {
     "cell_type": "code",
     "collapsed": false,
     "input": [
      "points1 = read_table('I')\n",
      "points2 = read_table('II')\n",
      "points3 = read_table('III')\n",
      "points4 = read_table('IV')"
     ],
     "language": "python",
     "metadata": {},
     "outputs": [],
     "prompt_number": 7
    },
    {
     "cell_type": "markdown",
     "metadata": {},
     "source": [
      "Plotting the 4 data sets with regression lines."
     ]
    },
    {
     "cell_type": "code",
     "collapsed": false,
     "input": [
      "#fig allows you to put multiple plots in one resizable figure\n",
      "fig, ((ax1, ax2),(ax3,ax4)) = plt.subplots(nrows=2, ncols=2)\n",
      "plot_test(ax1, points1, 'Data Set I')\n",
      "plot_test(ax2, points2, 'Data Set II')\n",
      "plot_test(ax3, points3, 'Data Set III')\n",
      "plot_test(ax4, points4, 'Data Set IV')\n",
      "plt.tight_layout()"
     ],
     "language": "python",
     "metadata": {},
     "outputs": [
      {
       "metadata": {},
       "output_type": "display_data",
       "png": "[encoded data removed]",
       "text": [
        "<matplotlib.figure.Figure at 0xd5ded68>"
       ]
      }
     ],
     "prompt_number": 40
    }
   ],
   "metadata": {}
  }
 ]
}